{
 "cells": [
  {
   "cell_type": "code",
   "execution_count": 1,
   "id": "e2093d2b",
   "metadata": {},
   "outputs": [],
   "source": [
    "import numpy as np\n",
    "import pandas as pd\n",
    "import cv2\n",
    "import os\n",
    "import matplotlib.pyplot as plt\n",
    "from tensorflow import keras\n",
    "from IPython.display import clear_output\n",
    "from Proj3_Utilies import plate_alignment"
   ]
  },
  {
   "cell_type": "code",
   "execution_count": 2,
   "id": "5280353c",
   "metadata": {},
   "outputs": [
    {
     "name": "stdout",
     "output_type": "stream",
     "text": [
      "Done!\n"
     ]
    }
   ],
   "source": [
    "data_path = './data_processed/unet_data/'\n",
    "name_list = os.listdir(data_path)\n",
    "num = len(name_list)\n",
    "    \n",
    "X_data = []\n",
    "X_name = []\n",
    "\n",
    "for i in range(0,int(num/2)):\n",
    "    print(\"Processing: \",i+1,\"/\",num)\n",
    "    clear_output(wait=True)\n",
    "#   img = cv2.imread(data_path+data_list[i],cv2.IMREAD_COLOR)\n",
    "    img= cv2.imdecode(np.fromfile(data_path+name_list[i], dtype=np.uint8), cv2.IMREAD_COLOR)\n",
    "    X_data.append(img)\n",
    "    X_name.append(name_list[i])\n",
    "\n",
    "X_data = np.array(X_data)/255\n",
    "    \n",
    "print(\"Done!\")"
   ]
  },
  {
   "cell_type": "code",
   "execution_count": 3,
   "id": "bda28953",
   "metadata": {},
   "outputs": [
    {
     "data": {
      "text/plain": [
       "(494, 512, 512, 1)"
      ]
     },
     "execution_count": 3,
     "metadata": {},
     "output_type": "execute_result"
    }
   ],
   "source": [
    "keras.backend.clear_session()\n",
    "model = keras.models.load_model('./unet.h5')\n",
    "# model.summary()\n",
    "y_pres = model.predict(X_data)\n",
    "y_pres.shape"
   ]
  },
  {
   "cell_type": "code",
   "execution_count": 4,
   "id": "8bde924b",
   "metadata": {},
   "outputs": [
    {
     "name": "stdout",
     "output_type": "stream",
     "text": [
      "Done!\n"
     ]
    }
   ],
   "source": [
    "outputPath = './data_processed/cnn_data_label/'\n",
    "if not os.path.exists(outputPath):\n",
    "    os.makedirs(outputPath)\n",
    "    \n",
    "num = len(y_pres)\n",
    "# num = 100\n",
    "\n",
    "for i in range(num):\n",
    "    print(\"Processing: \",i+1,\"/\",num)\n",
    "    clear_output(wait=True)\n",
    "    \n",
    "    aligned_plate,un_aligned_plate,box, flag = plate_alignment(X_data[i],y_pres[i])\n",
    "    \n",
    "    if flag:\n",
    "        cv2.imencode('.png', aligned_plate)[1].tofile(outputPath+X_name[i][:7]+\".png\") \n",
    "    \n",
    "    cv2.imencode('.png', un_aligned_plate)[1].tofile(outputPath+X_name[i][:7]+\"un.png\")\n",
    "\n",
    "print(\"Done!\")"
   ]
  },
  {
   "cell_type": "code",
   "execution_count": null,
   "id": "274251ae",
   "metadata": {},
   "outputs": [],
   "source": []
  }
 ],
 "metadata": {
  "kernelspec": {
   "display_name": "Python 3",
   "language": "python",
   "name": "python3"
  },
  "language_info": {
   "codemirror_mode": {
    "name": "ipython",
    "version": 3
   },
   "file_extension": ".py",
   "mimetype": "text/x-python",
   "name": "python",
   "nbconvert_exporter": "python",
   "pygments_lexer": "ipython3",
   "version": "3.6.13"
  }
 },
 "nbformat": 4,
 "nbformat_minor": 5
}
