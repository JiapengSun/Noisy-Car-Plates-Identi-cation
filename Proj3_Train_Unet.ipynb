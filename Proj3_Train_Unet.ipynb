{
 "cells": [
  {
   "cell_type": "code",
   "execution_count": 1,
   "metadata": {},
   "outputs": [],
   "source": [
    "import pandas as pd\n",
    "import numpy as np\n",
    "import cv2\n",
    "import os\n",
    "import matplotlib.pyplot as plt\n",
    "from IPython.display import clear_output"
   ]
  },
  {
   "cell_type": "code",
   "execution_count": 2,
   "metadata": {},
   "outputs": [
    {
     "name": "stdout",
     "output_type": "stream",
     "text": [
      "1 Physical GPUs, 1 Logical GPUs\n"
     ]
    }
   ],
   "source": [
    "import tensorflow as tf\n",
    "from tensorflow.keras import layers, losses, models\n",
    "\n",
    "gpus = tf.config.experimental.list_physical_devices('GPU')\n",
    "if gpus:\n",
    "  # Restrict TensorFlow to only allocate 6GB of memory on the first GPU\n",
    "  try:\n",
    "    tf.config.experimental.set_virtual_device_configuration(\n",
    "        gpus[0],\n",
    "        [tf.config.experimental.VirtualDeviceConfiguration(memory_limit=6144)])\n",
    "    logical_gpus = tf.config.experimental.list_logical_devices('GPU')\n",
    "    print(len(gpus), \"Physical GPUs,\", len(logical_gpus), \"Logical GPUs\")\n",
    "  except RuntimeError as e:\n",
    "    # Virtual devices must be set before GPUs have been initialized\n",
    "    print(e)\n",
    "\n",
    "config = tf.compat.v1.ConfigProto()\n",
    "config.gpu_options.allow_growth=True\n",
    "sess = tf.compat.v1.Session(config=config)"
   ]
  },
  {
   "cell_type": "code",
   "execution_count": 3,
   "metadata": {},
   "outputs": [],
   "source": [
    "from sklearn.model_selection import train_test_split\n",
    "\n",
    "def get_data(data_path,label_path):\n",
    "    \n",
    "    data_list = os.listdir(data_path)\n",
    "    label_list = os.listdir(label_path)\n",
    "#     num = min(len(data_list),len(label_list))\n",
    "    num = 2500\n",
    "    \n",
    "    X_all = []\n",
    "    y_all = []\n",
    "\n",
    "    for i in range(num):\n",
    "        print(\"Processing: \",i+1,\"/\",num)\n",
    "        clear_output(wait=True)\n",
    "\n",
    "        img = cv2.imdecode(np.fromfile(data_path+data_list[i], dtype=np.uint8), cv2.IMREAD_COLOR)\n",
    "        label = cv2.imdecode(np.fromfile(label_path+label_list[i], dtype=np.uint8), cv2.IMREAD_GRAYSCALE)      \n",
    "#         img = cv2.imread(data_path+data_list[i],cv2.IMREAD_COLOR)\n",
    "#         label = cv2.imread(label_path+label_list[i],cv2.IMREAD_GRAYSCALE)\n",
    "\n",
    "        X_all.append(img)\n",
    "        y_all.append(label)\n",
    "        \n",
    "    print(\"Spliting..\")\n",
    "    clear_output(wait=True)\n",
    "\n",
    "    X_all = np.array(X_all)/255\n",
    "    y_all = np.array(y_all)/255\n",
    "    \n",
    "    X_train, X_test, y_train, y_test = train_test_split(X_all, y_all, test_size=0.3, random_state=1234)\n",
    "    \n",
    "    print(\"Done!\")\n",
    "    \n",
    "    return X_train, X_test, y_train, y_test"
   ]
  },
  {
   "cell_type": "code",
   "execution_count": 4,
   "metadata": {
    "scrolled": false
   },
   "outputs": [
    {
     "name": "stdout",
     "output_type": "stream",
     "text": [
      "Done!\n"
     ]
    }
   ],
   "source": [
    "data_path = './data_processed/unet_data/'\n",
    "label_path = './data_processed/unet_label/'\n",
    "\n",
    "X_train, X_test, y_train, y_test = get_data(data_path,label_path)"
   ]
  },
  {
   "cell_type": "code",
   "execution_count": 5,
   "metadata": {},
   "outputs": [],
   "source": [
    "def get_unet(h,w):\n",
    "    \n",
    "    def Conv2d_BN(x, nb_filter, kernel_size, strides=(1, 1), padding='same'):\n",
    "        x = layers.Conv2D(nb_filter, kernel_size, strides=strides, padding=padding)(x)\n",
    "        x = layers.BatchNormalization(axis=3)(x)\n",
    "        x = layers.LeakyReLU(alpha=0.1)(x)\n",
    "        return x\n",
    " \n",
    "    def Conv2dT_BN(x, filters, kernel_size, strides=(2, 2), padding='same'):\n",
    "        x = layers.Conv2DTranspose(filters, kernel_size, strides=strides, padding=padding)(x)\n",
    "        x = layers.BatchNormalization(axis=3)(x)\n",
    "        x = layers.LeakyReLU(alpha=0.1)(x)\n",
    "        return x\n",
    " \n",
    "    inpt = layers.Input(shape=(h, w, 3))\n",
    "    conv1 = Conv2d_BN(inpt, 8, (3, 3))\n",
    "    conv1 = Conv2d_BN(conv1, 8, (3, 3))\n",
    "    pool1 = layers.MaxPooling2D(pool_size=(2, 2), strides=(2, 2), padding='same')(conv1)\n",
    " \n",
    "    conv2 = Conv2d_BN(pool1, 16, (3, 3))\n",
    "    conv2 = Conv2d_BN(conv2, 16, (3, 3))\n",
    "    pool2 = layers.MaxPooling2D(pool_size=(2, 2), strides=(2, 2), padding='same')(conv2)\n",
    " \n",
    "    conv3 = Conv2d_BN(pool2, 32, (3, 3))\n",
    "    conv3 = Conv2d_BN(conv3, 32, (3, 3))\n",
    "    pool3 = layers.MaxPooling2D(pool_size=(2, 2), strides=(2, 2), padding='same')(conv3)\n",
    " \n",
    "    conv4 = Conv2d_BN(pool3, 64, (3, 3))\n",
    "    conv4 = Conv2d_BN(conv4, 64, (3, 3))\n",
    "    pool4 = layers.MaxPooling2D(pool_size=(2, 2), strides=(2, 2), padding='same')(conv4)\n",
    " \n",
    "    conv5 = Conv2d_BN(pool4, 128, (3, 3))\n",
    "    conv5 = layers.Dropout(0.5)(conv5)\n",
    "    conv5 = Conv2d_BN(conv5, 128, (3, 3))\n",
    "    conv5 = layers.Dropout(0.5)(conv5)\n",
    " \n",
    "    convt1 = Conv2dT_BN(conv5, 64, (3, 3))\n",
    "    concat1 = layers.concatenate([conv4, convt1], axis=3)\n",
    "    concat1 = layers.Dropout(0.5)(concat1)\n",
    "    conv6 = Conv2d_BN(concat1, 64, (3, 3))\n",
    "    conv6 = Conv2d_BN(conv6, 64, (3, 3))\n",
    " \n",
    "    convt2 = Conv2dT_BN(conv6, 32, (3, 3))\n",
    "    concat2 = layers.concatenate([conv3, convt2], axis=3)\n",
    "    concat2 = layers.Dropout(0.5)(concat2)\n",
    "    conv7 = Conv2d_BN(concat2, 32, (3, 3))\n",
    "    conv7 = Conv2d_BN(conv7, 32, (3, 3))\n",
    " \n",
    "    convt3 = Conv2dT_BN(conv7, 16, (3, 3))\n",
    "    concat3 = layers.concatenate([conv2, convt3], axis=3)\n",
    "    concat3 = layers.Dropout(0.5)(concat3)\n",
    "    conv8 = Conv2d_BN(concat3, 16, (3, 3))\n",
    "    conv8 = Conv2d_BN(conv8, 16, (3, 3))\n",
    " \n",
    "    convt4 = Conv2dT_BN(conv8, 8, (3, 3))\n",
    "    concat4 = layers.concatenate([conv1, convt4], axis=3)\n",
    "    concat4 = layers.Dropout(0.5)(concat4)\n",
    "    conv9 = Conv2d_BN(concat4, 8, (3, 3))\n",
    "    conv9 = Conv2d_BN(conv9, 8, (3, 3))\n",
    "    conv9 = layers.Dropout(0.5)(conv9)\n",
    "    outpt = layers.Conv2D(filters=1, kernel_size=(1, 1), strides=(1, 1), padding='same', activation='relu')(conv9)\n",
    " \n",
    "    model = models.Model(inpt, outpt)\n",
    "    \n",
    "    return model"
   ]
  },
  {
   "cell_type": "code",
   "execution_count": 6,
   "metadata": {},
   "outputs": [],
   "source": [
    "tf.keras.backend.clear_session()\n",
    "unet = get_unet(512,512)\n",
    "# unet.summary()"
   ]
  },
  {
   "cell_type": "code",
   "execution_count": 7,
   "metadata": {},
   "outputs": [
    {
     "data": {
      "image/png": "[encoded data removed]",
      "text/plain": [
       "<Figure size 864x576 with 2 Axes>"
      ]
     },
     "metadata": {
      "needs_background": "light"
     },
     "output_type": "display_data"
    },
    {
     "name": "stdout",
     "output_type": "stream",
     "text": [
      "accuracy\n",
      "\ttraining         \t (min:    0.874, max:    0.995, cur:    0.995)\n",
      "\tvalidation       \t (min:    0.973, max:    0.998, cur:    0.998)\n",
      "Loss\n",
      "\ttraining         \t (min:    0.004, max:    0.213, cur:    0.004)\n",
      "\tvalidation       \t (min:    0.002, max:    0.026, cur:    0.002)\n"
     ]
    },
    {
     "data": {
      "text/plain": [
       "<tensorflow.python.keras.callbacks.History at 0x29b50135780>"
      ]
     },
     "execution_count": 7,
     "metadata": {},
     "output_type": "execute_result"
    }
   ],
   "source": [
    "from livelossplot import PlotLossesKerasTF\n",
    "plotlosses = PlotLossesKerasTF()\n",
    "\n",
    "tf.keras.backend.clear_session()\n",
    "unet = get_unet(512,512)\n",
    "\n",
    "unet.compile(optimizer='adam',loss='mean_squared_error',metrics=['accuracy'])\n",
    "\n",
    "# callbacks = [tf.keras.callbacks.ModelCheckpoint(\"Unet_Segmentation.h5\", save_best_only=True)]\n",
    "\n",
    "unet.fit(X_train, y_train, epochs=35, batch_size=16, validation_data=(X_test, y_test),callbacks=[plotlosses])"
   ]
  },
  {
   "cell_type": "code",
   "execution_count": 8,
   "metadata": {},
   "outputs": [
    {
     "name": "stdout",
     "output_type": "stream",
     "text": [
      "47/47 [==============================] - 2s 50ms/step - loss: 0.0021 - accuracy: 0.9978\n",
      "\n",
      "test loss:  0.0020592843648046255\n",
      "\n",
      "test accuracy:  0.9978303909301758\n"
     ]
    }
   ],
   "source": [
    "# unet.save('unet.h5')\n",
    "\n",
    "loss, accuracy = unet.evaluate(X_test, y_test,batch_size=16)\n",
    "print('\\ntest loss: ', loss)\n",
    "print('\\ntest accuracy: ', accuracy)"
   ]
  }
 ],
 "metadata": {
  "kernelspec": {
   "display_name": "Python 3",
   "language": "python",
   "name": "python3"
  },
  "language_info": {
   "codemirror_mode": {
    "name": "ipython",
    "version": 3
   },
   "file_extension": ".py",
   "mimetype": "text/x-python",
   "name": "python",
   "nbconvert_exporter": "python",
   "pygments_lexer": "ipython3",
   "version": "3.6.13"
  }
 },
 "nbformat": 4,
 "nbformat_minor": 2
}
